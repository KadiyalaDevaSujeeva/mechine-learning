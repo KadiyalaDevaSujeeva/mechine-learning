{
 "cells": [
  {
   "cell_type": "code",
   "execution_count": 1,
   "id": "a646d0f9-4310-4482-94f2-73f17b4803c4",
   "metadata": {},
   "outputs": [],
   "source": [
    "import pymysql"
   ]
  },
  {
   "cell_type": "code",
   "execution_count": 7,
   "id": "237d2851-954c-497f-9d90-7a3927548b71",
   "metadata": {},
   "outputs": [
    {
     "name": "stdin",
     "output_type": "stream",
     "text": [
      "enter no of records 1\n",
      "enter eid 101\n",
      "enter ename fff\n",
      "enter salary 56789\n",
      "enter dname hr\n"
     ]
    }
   ],
   "source": [
    "import pymysql as mysql\n",
    "db=mysql.connect(host='localhost',database='vizag',user='root',password='123456',port=3306)\n",
    "cur=db.cursor()\n",
    "i=1\n",
    "n=int(input(\"enter no of records\"))\n",
    "while(i<=n):\n",
    "    eno1=int(input(\"enter eid\"))\n",
    "    ename1=input(\"enter ename\")\n",
    "    sal1=float(input(\"enter salary\"))\n",
    "    dname1=input(\"enter dname\")\n",
    "    sql=(\"INSERT INTO emp(eno,ename ,sal ,dname) VALUES('%d','%s','%d','%s')\"%(eno1,ename1,sal1,dname1))\n",
    "    cur.execute(sql)\n",
    "    i=i+1\n",
    "db.commit()"
   ]
  },
  {
   "cell_type": "code",
   "execution_count": 17,
   "id": "28219ff8-706b-4a8e-acd8-68f6b3287955",
   "metadata": {},
   "outputs": [],
   "source": [
    "import tkinter as tk"
   ]
  },
  {
   "cell_type": "code",
   "execution_count": 18,
   "id": "b781c683-a7be-49be-b43a-0bc7aace846c",
   "metadata": {},
   "outputs": [],
   "source": [
    "window=tk.Tk()"
   ]
  },
  {
   "cell_type": "code",
   "execution_count": 19,
   "id": "bb5818af-9295-4d73-8029-a2645af074d4",
   "metadata": {},
   "outputs": [],
   "source": [
    "window.mainloop()"
   ]
  },
  {
   "cell_type": "code",
   "execution_count": 22,
   "id": "235aaabb-224b-4876-971c-7b1851730c4e",
   "metadata": {},
   "outputs": [],
   "source": [
    "#lables\n",
    "import tkinter as tk\n",
    "window=tk.Tk()\n",
    "#create the main window\n",
    "label=tk.Label(window,text=\"hello world\")\n",
    "label.pack()\n",
    "window.mainloop()\n"
   ]
  },
  {
   "cell_type": "code",
   "execution_count": null,
   "id": "ff25a475-fdae-4aaf-8bad-9f0c68bc2433",
   "metadata": {},
   "outputs": [],
   "source": [
    "#gui application\n",
    "from tkinter import *\n",
    "from tkinter import messagebox\n",
    "import pymysql as mysql\n",
    "def ok():\n",
    "    studname=e1.get()\n",
    "    coursename=e2.get()\n",
    "    feee=e3.get()\n",
    "    mysqldb=mysql.connect(host=\"localhost\",user='root',password='123456',database=\"vizag\")\n",
    "    mycursor=mysqldb.cursor()\n",
    "    try:\n",
    "        sql=\"INSERT INTO record(stname,course,fee)VALUES(%s,%s,%s)\"\n",
    "        val=(studname,coursename,feee)\n",
    "        mycursor.execute(sql,val)\n",
    "        mysqldb.commit()\n",
    "        messagebox.showinfo(\"information\" ,\"Record inserted successfully....\" )\n",
    "    except Exception as e:\n",
    "      print(e)\n",
    "      mysqldb.rollback()\n",
    "      mysqldb.close()\n",
    "\n",
    "root=Tk()\n",
    "root.title(\"student registration\")\n",
    "root.geometry(\"300x200\")\n",
    "global e1\n",
    "global e2\n",
    "global e3\n",
    "Label(root,text=\"student name\").place(x=10,y=10)\n",
    "Label(root,text=\"course\").place(x=10,y=40)\n",
    "Label(root,text=\"fee\").place(x=10,y=80)\n",
    "e1=Entry(root)\n",
    "e1.place(x=140,y=10)\n",
    "\n",
    "e2=Entry(root)\n",
    "e2.place(x=140,y=40)\n",
    "e3=Entry(root)\n",
    "e3.place(x=140,y=80)\n",
    "Button(root,text=\"Add\",command=ok,height=3,width=13).place(x=10,y=120)\n",
    "root.mainloop()\n",
    "\n"
   ]
  },
  {
   "cell_type": "code",
   "execution_count": null,
   "id": "310f3f25-4d89-4b96-9489-53689a0e1bc0",
   "metadata": {},
   "outputs": [],
   "source": []
  }
 ],
 "metadata": {
  "kernelspec": {
   "display_name": "Python 3 (ipykernel)",
   "language": "python",
   "name": "python3"
  },
  "language_info": {
   "codemirror_mode": {
    "name": "ipython",
    "version": 3
   },
   "file_extension": ".py",
   "mimetype": "text/x-python",
   "name": "python",
   "nbconvert_exporter": "python",
   "pygments_lexer": "ipython3",
   "version": "3.11.7"
  }
 },
 "nbformat": 4,
 "nbformat_minor": 5
}
